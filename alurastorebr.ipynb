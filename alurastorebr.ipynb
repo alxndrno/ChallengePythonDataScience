{
  "nbformat": 4,
  "nbformat_minor": 0,
  "metadata": {
    "colab": {
      "provenance": [],
      "include_colab_link": true
    },
    "kernelspec": {
      "name": "python3",
      "display_name": "Python 3"
    },
    "language_info": {
      "name": "python"
    }
  },
  "cells": [
    {
      "cell_type": "markdown",
      "metadata": {
        "id": "view-in-github",
        "colab_type": "text"
      },
      "source": [
        "<a href=\"https://colab.research.google.com/github/alxndrno/ChallengePythonDataScience/blob/main/alurastorebr.ipynb\" target=\"_parent\"><img src=\"https://colab.research.google.com/assets/colab-badge.svg\" alt=\"Open In Colab\"/></a>"
      ]
    },
    {
      "cell_type": "markdown",
      "source": [
        "### Importação dos dados\n",
        "\n"
      ],
      "metadata": {
        "id": "RhEdWd9YUR6H"
      }
    },
    {
      "cell_type": "code",
      "execution_count": null,
      "metadata": {
        "colab": {
          "base_uri": "https://localhost:8080/",
          "height": 207
        },
        "id": "T3EvaeQ_INIL",
        "outputId": "45ff2c02-4339-4971-b534-ae39215ef586"
      },
      "outputs": [
        {
          "output_type": "execute_result",
          "data": {
            "text/plain": [
              "                 Produto Categoria do Produto    Preço      Frete  \\\n",
              "0     Assistente virtual          eletronicos   219.08   9.249790   \n",
              "1         Mesa de jantar               moveis   256.35  11.234305   \n",
              "2      Jogo de tabuleiro           brinquedos   279.51  21.262681   \n",
              "3            Micro-ondas     eletrodomesticos  1009.99  54.667344   \n",
              "4  Cadeira de escritório               moveis   446.99  26.964689   \n",
              "\n",
              "  Data da Compra        Vendedor Local da compra  Avaliação da compra  \\\n",
              "0     16/01/2021     Pedro Gomes              SP                    4   \n",
              "1     18/05/2022  Beatriz Moraes              RJ                    1   \n",
              "2     15/03/2021      João Souza              DF                    1   \n",
              "3     03/05/2022      João Souza              RS                    4   \n",
              "4     07/11/2020   Larissa Alves              MG                    5   \n",
              "\n",
              "  Tipo de pagamento  Quantidade de parcelas    lat    lon  \n",
              "0    cartao_credito                       8 -22.19 -48.79  \n",
              "1    cartao_credito                       4 -22.25 -42.66  \n",
              "2    cartao_credito                       1 -15.83 -47.86  \n",
              "3            boleto                       1 -30.17 -53.50  \n",
              "4            boleto                       1 -18.10 -44.38  "
            ],
            "text/html": [
              "\n",
              "  <div id=\"df-a9eeb656-703f-4ae0-8b85-3268e19ca972\" class=\"colab-df-container\">\n",
              "    <div>\n",
              "<style scoped>\n",
              "    .dataframe tbody tr th:only-of-type {\n",
              "        vertical-align: middle;\n",
              "    }\n",
              "\n",
              "    .dataframe tbody tr th {\n",
              "        vertical-align: top;\n",
              "    }\n",
              "\n",
              "    .dataframe thead th {\n",
              "        text-align: right;\n",
              "    }\n",
              "</style>\n",
              "<table border=\"1\" class=\"dataframe\">\n",
              "  <thead>\n",
              "    <tr style=\"text-align: right;\">\n",
              "      <th></th>\n",
              "      <th>Produto</th>\n",
              "      <th>Categoria do Produto</th>\n",
              "      <th>Preço</th>\n",
              "      <th>Frete</th>\n",
              "      <th>Data da Compra</th>\n",
              "      <th>Vendedor</th>\n",
              "      <th>Local da compra</th>\n",
              "      <th>Avaliação da compra</th>\n",
              "      <th>Tipo de pagamento</th>\n",
              "      <th>Quantidade de parcelas</th>\n",
              "      <th>lat</th>\n",
              "      <th>lon</th>\n",
              "    </tr>\n",
              "  </thead>\n",
              "  <tbody>\n",
              "    <tr>\n",
              "      <th>0</th>\n",
              "      <td>Assistente virtual</td>\n",
              "      <td>eletronicos</td>\n",
              "      <td>219.08</td>\n",
              "      <td>9.249790</td>\n",
              "      <td>16/01/2021</td>\n",
              "      <td>Pedro Gomes</td>\n",
              "      <td>SP</td>\n",
              "      <td>4</td>\n",
              "      <td>cartao_credito</td>\n",
              "      <td>8</td>\n",
              "      <td>-22.19</td>\n",
              "      <td>-48.79</td>\n",
              "    </tr>\n",
              "    <tr>\n",
              "      <th>1</th>\n",
              "      <td>Mesa de jantar</td>\n",
              "      <td>moveis</td>\n",
              "      <td>256.35</td>\n",
              "      <td>11.234305</td>\n",
              "      <td>18/05/2022</td>\n",
              "      <td>Beatriz Moraes</td>\n",
              "      <td>RJ</td>\n",
              "      <td>1</td>\n",
              "      <td>cartao_credito</td>\n",
              "      <td>4</td>\n",
              "      <td>-22.25</td>\n",
              "      <td>-42.66</td>\n",
              "    </tr>\n",
              "    <tr>\n",
              "      <th>2</th>\n",
              "      <td>Jogo de tabuleiro</td>\n",
              "      <td>brinquedos</td>\n",
              "      <td>279.51</td>\n",
              "      <td>21.262681</td>\n",
              "      <td>15/03/2021</td>\n",
              "      <td>João Souza</td>\n",
              "      <td>DF</td>\n",
              "      <td>1</td>\n",
              "      <td>cartao_credito</td>\n",
              "      <td>1</td>\n",
              "      <td>-15.83</td>\n",
              "      <td>-47.86</td>\n",
              "    </tr>\n",
              "    <tr>\n",
              "      <th>3</th>\n",
              "      <td>Micro-ondas</td>\n",
              "      <td>eletrodomesticos</td>\n",
              "      <td>1009.99</td>\n",
              "      <td>54.667344</td>\n",
              "      <td>03/05/2022</td>\n",
              "      <td>João Souza</td>\n",
              "      <td>RS</td>\n",
              "      <td>4</td>\n",
              "      <td>boleto</td>\n",
              "      <td>1</td>\n",
              "      <td>-30.17</td>\n",
              "      <td>-53.50</td>\n",
              "    </tr>\n",
              "    <tr>\n",
              "      <th>4</th>\n",
              "      <td>Cadeira de escritório</td>\n",
              "      <td>moveis</td>\n",
              "      <td>446.99</td>\n",
              "      <td>26.964689</td>\n",
              "      <td>07/11/2020</td>\n",
              "      <td>Larissa Alves</td>\n",
              "      <td>MG</td>\n",
              "      <td>5</td>\n",
              "      <td>boleto</td>\n",
              "      <td>1</td>\n",
              "      <td>-18.10</td>\n",
              "      <td>-44.38</td>\n",
              "    </tr>\n",
              "  </tbody>\n",
              "</table>\n",
              "</div>\n",
              "    <div class=\"colab-df-buttons\">\n",
              "\n",
              "  <div class=\"colab-df-container\">\n",
              "    <button class=\"colab-df-convert\" onclick=\"convertToInteractive('df-a9eeb656-703f-4ae0-8b85-3268e19ca972')\"\n",
              "            title=\"Convert this dataframe to an interactive table.\"\n",
              "            style=\"display:none;\">\n",
              "\n",
              "  <svg xmlns=\"http://www.w3.org/2000/svg\" height=\"24px\" viewBox=\"0 -960 960 960\">\n",
              "    <path d=\"M120-120v-720h720v720H120Zm60-500h600v-160H180v160Zm220 220h160v-160H400v160Zm0 220h160v-160H400v160ZM180-400h160v-160H180v160Zm440 0h160v-160H620v160ZM180-180h160v-160H180v160Zm440 0h160v-160H620v160Z\"/>\n",
              "  </svg>\n",
              "    </button>\n",
              "\n",
              "  <style>\n",
              "    .colab-df-container {\n",
              "      display:flex;\n",
              "      gap: 12px;\n",
              "    }\n",
              "\n",
              "    .colab-df-convert {\n",
              "      background-color: #E8F0FE;\n",
              "      border: none;\n",
              "      border-radius: 50%;\n",
              "      cursor: pointer;\n",
              "      display: none;\n",
              "      fill: #1967D2;\n",
              "      height: 32px;\n",
              "      padding: 0 0 0 0;\n",
              "      width: 32px;\n",
              "    }\n",
              "\n",
              "    .colab-df-convert:hover {\n",
              "      background-color: #E2EBFA;\n",
              "      box-shadow: 0px 1px 2px rgba(60, 64, 67, 0.3), 0px 1px 3px 1px rgba(60, 64, 67, 0.15);\n",
              "      fill: #174EA6;\n",
              "    }\n",
              "\n",
              "    .colab-df-buttons div {\n",
              "      margin-bottom: 4px;\n",
              "    }\n",
              "\n",
              "    [theme=dark] .colab-df-convert {\n",
              "      background-color: #3B4455;\n",
              "      fill: #D2E3FC;\n",
              "    }\n",
              "\n",
              "    [theme=dark] .colab-df-convert:hover {\n",
              "      background-color: #434B5C;\n",
              "      box-shadow: 0px 1px 3px 1px rgba(0, 0, 0, 0.15);\n",
              "      filter: drop-shadow(0px 1px 2px rgba(0, 0, 0, 0.3));\n",
              "      fill: #FFFFFF;\n",
              "    }\n",
              "  </style>\n",
              "\n",
              "    <script>\n",
              "      const buttonEl =\n",
              "        document.querySelector('#df-a9eeb656-703f-4ae0-8b85-3268e19ca972 button.colab-df-convert');\n",
              "      buttonEl.style.display =\n",
              "        google.colab.kernel.accessAllowed ? 'block' : 'none';\n",
              "\n",
              "      async function convertToInteractive(key) {\n",
              "        const element = document.querySelector('#df-a9eeb656-703f-4ae0-8b85-3268e19ca972');\n",
              "        const dataTable =\n",
              "          await google.colab.kernel.invokeFunction('convertToInteractive',\n",
              "                                                    [key], {});\n",
              "        if (!dataTable) return;\n",
              "\n",
              "        const docLinkHtml = 'Like what you see? Visit the ' +\n",
              "          '<a target=\"_blank\" href=https://colab.research.google.com/notebooks/data_table.ipynb>data table notebook</a>'\n",
              "          + ' to learn more about interactive tables.';\n",
              "        element.innerHTML = '';\n",
              "        dataTable['output_type'] = 'display_data';\n",
              "        await google.colab.output.renderOutput(dataTable, element);\n",
              "        const docLink = document.createElement('div');\n",
              "        docLink.innerHTML = docLinkHtml;\n",
              "        element.appendChild(docLink);\n",
              "      }\n",
              "    </script>\n",
              "  </div>\n",
              "\n",
              "\n",
              "    <div id=\"df-920699b6-1c40-4025-9d58-6307a1064af5\">\n",
              "      <button class=\"colab-df-quickchart\" onclick=\"quickchart('df-920699b6-1c40-4025-9d58-6307a1064af5')\"\n",
              "                title=\"Suggest charts\"\n",
              "                style=\"display:none;\">\n",
              "\n",
              "<svg xmlns=\"http://www.w3.org/2000/svg\" height=\"24px\"viewBox=\"0 0 24 24\"\n",
              "     width=\"24px\">\n",
              "    <g>\n",
              "        <path d=\"M19 3H5c-1.1 0-2 .9-2 2v14c0 1.1.9 2 2 2h14c1.1 0 2-.9 2-2V5c0-1.1-.9-2-2-2zM9 17H7v-7h2v7zm4 0h-2V7h2v10zm4 0h-2v-4h2v4z\"/>\n",
              "    </g>\n",
              "</svg>\n",
              "      </button>\n",
              "\n",
              "<style>\n",
              "  .colab-df-quickchart {\n",
              "      --bg-color: #E8F0FE;\n",
              "      --fill-color: #1967D2;\n",
              "      --hover-bg-color: #E2EBFA;\n",
              "      --hover-fill-color: #174EA6;\n",
              "      --disabled-fill-color: #AAA;\n",
              "      --disabled-bg-color: #DDD;\n",
              "  }\n",
              "\n",
              "  [theme=dark] .colab-df-quickchart {\n",
              "      --bg-color: #3B4455;\n",
              "      --fill-color: #D2E3FC;\n",
              "      --hover-bg-color: #434B5C;\n",
              "      --hover-fill-color: #FFFFFF;\n",
              "      --disabled-bg-color: #3B4455;\n",
              "      --disabled-fill-color: #666;\n",
              "  }\n",
              "\n",
              "  .colab-df-quickchart {\n",
              "    background-color: var(--bg-color);\n",
              "    border: none;\n",
              "    border-radius: 50%;\n",
              "    cursor: pointer;\n",
              "    display: none;\n",
              "    fill: var(--fill-color);\n",
              "    height: 32px;\n",
              "    padding: 0;\n",
              "    width: 32px;\n",
              "  }\n",
              "\n",
              "  .colab-df-quickchart:hover {\n",
              "    background-color: var(--hover-bg-color);\n",
              "    box-shadow: 0 1px 2px rgba(60, 64, 67, 0.3), 0 1px 3px 1px rgba(60, 64, 67, 0.15);\n",
              "    fill: var(--button-hover-fill-color);\n",
              "  }\n",
              "\n",
              "  .colab-df-quickchart-complete:disabled,\n",
              "  .colab-df-quickchart-complete:disabled:hover {\n",
              "    background-color: var(--disabled-bg-color);\n",
              "    fill: var(--disabled-fill-color);\n",
              "    box-shadow: none;\n",
              "  }\n",
              "\n",
              "  .colab-df-spinner {\n",
              "    border: 2px solid var(--fill-color);\n",
              "    border-color: transparent;\n",
              "    border-bottom-color: var(--fill-color);\n",
              "    animation:\n",
              "      spin 1s steps(1) infinite;\n",
              "  }\n",
              "\n",
              "  @keyframes spin {\n",
              "    0% {\n",
              "      border-color: transparent;\n",
              "      border-bottom-color: var(--fill-color);\n",
              "      border-left-color: var(--fill-color);\n",
              "    }\n",
              "    20% {\n",
              "      border-color: transparent;\n",
              "      border-left-color: var(--fill-color);\n",
              "      border-top-color: var(--fill-color);\n",
              "    }\n",
              "    30% {\n",
              "      border-color: transparent;\n",
              "      border-left-color: var(--fill-color);\n",
              "      border-top-color: var(--fill-color);\n",
              "      border-right-color: var(--fill-color);\n",
              "    }\n",
              "    40% {\n",
              "      border-color: transparent;\n",
              "      border-right-color: var(--fill-color);\n",
              "      border-top-color: var(--fill-color);\n",
              "    }\n",
              "    60% {\n",
              "      border-color: transparent;\n",
              "      border-right-color: var(--fill-color);\n",
              "    }\n",
              "    80% {\n",
              "      border-color: transparent;\n",
              "      border-right-color: var(--fill-color);\n",
              "      border-bottom-color: var(--fill-color);\n",
              "    }\n",
              "    90% {\n",
              "      border-color: transparent;\n",
              "      border-bottom-color: var(--fill-color);\n",
              "    }\n",
              "  }\n",
              "</style>\n",
              "\n",
              "      <script>\n",
              "        async function quickchart(key) {\n",
              "          const quickchartButtonEl =\n",
              "            document.querySelector('#' + key + ' button');\n",
              "          quickchartButtonEl.disabled = true;  // To prevent multiple clicks.\n",
              "          quickchartButtonEl.classList.add('colab-df-spinner');\n",
              "          try {\n",
              "            const charts = await google.colab.kernel.invokeFunction(\n",
              "                'suggestCharts', [key], {});\n",
              "          } catch (error) {\n",
              "            console.error('Error during call to suggestCharts:', error);\n",
              "          }\n",
              "          quickchartButtonEl.classList.remove('colab-df-spinner');\n",
              "          quickchartButtonEl.classList.add('colab-df-quickchart-complete');\n",
              "        }\n",
              "        (() => {\n",
              "          let quickchartButtonEl =\n",
              "            document.querySelector('#df-920699b6-1c40-4025-9d58-6307a1064af5 button');\n",
              "          quickchartButtonEl.style.display =\n",
              "            google.colab.kernel.accessAllowed ? 'block' : 'none';\n",
              "        })();\n",
              "      </script>\n",
              "    </div>\n",
              "\n",
              "    </div>\n",
              "  </div>\n"
            ],
            "application/vnd.google.colaboratory.intrinsic+json": {
              "type": "dataframe",
              "variable_name": "loja",
              "summary": "{\n  \"name\": \"loja\",\n  \"rows\": 2359,\n  \"fields\": [\n    {\n      \"column\": \"Produto\",\n      \"properties\": {\n        \"dtype\": \"category\",\n        \"num_unique_values\": 51,\n        \"samples\": [\n          \"Viol\\u00e3o\",\n          \"Bola de basquete\",\n          \"Smartwatch\"\n        ],\n        \"semantic_type\": \"\",\n        \"description\": \"\"\n      }\n    },\n    {\n      \"column\": \"Categoria do Produto\",\n      \"properties\": {\n        \"dtype\": \"category\",\n        \"num_unique_values\": 8,\n        \"samples\": [\n          \"moveis\",\n          \"esporte e lazer\",\n          \"eletronicos\"\n        ],\n        \"semantic_type\": \"\",\n        \"description\": \"\"\n      }\n    },\n    {\n      \"column\": \"Pre\\u00e7o\",\n      \"properties\": {\n        \"dtype\": \"number\",\n        \"std\": 819.5827782539145,\n        \"min\": 10.07,\n        \"max\": 3969.38,\n        \"num_unique_values\": 2315,\n        \"samples\": [\n          446.11,\n          107.31,\n          65.86\n        ],\n        \"semantic_type\": \"\",\n        \"description\": \"\"\n      }\n    },\n    {\n      \"column\": \"Frete\",\n      \"properties\": {\n        \"dtype\": \"number\",\n        \"std\": 43.814183327408166,\n        \"min\": 0.0,\n        \"max\": 214.3770604781,\n        \"num_unique_values\": 2149,\n        \"samples\": [\n          83.815279607,\n          16.069664669,\n          14.0344876928\n        ],\n        \"semantic_type\": \"\",\n        \"description\": \"\"\n      }\n    },\n    {\n      \"column\": \"Data da Compra\",\n      \"properties\": {\n        \"dtype\": \"object\",\n        \"num_unique_values\": 1018,\n        \"samples\": [\n          \"15/09/2022\",\n          \"03/06/2020\",\n          \"06/11/2021\"\n        ],\n        \"semantic_type\": \"\",\n        \"description\": \"\"\n      }\n    },\n    {\n      \"column\": \"Vendedor\",\n      \"properties\": {\n        \"dtype\": \"category\",\n        \"num_unique_values\": 14,\n        \"samples\": [\n          \"Juliana Costa\",\n          \"Mariana Ferreira\",\n          \"Pedro Gomes\"\n        ],\n        \"semantic_type\": \"\",\n        \"description\": \"\"\n      }\n    },\n    {\n      \"column\": \"Local da compra\",\n      \"properties\": {\n        \"dtype\": \"category\",\n        \"num_unique_values\": 26,\n        \"samples\": [\n          \"TO\",\n          \"RN\",\n          \"SP\"\n        ],\n        \"semantic_type\": \"\",\n        \"description\": \"\"\n      }\n    },\n    {\n      \"column\": \"Avalia\\u00e7\\u00e3o da compra\",\n      \"properties\": {\n        \"dtype\": \"number\",\n        \"std\": 1,\n        \"min\": 1,\n        \"max\": 5,\n        \"num_unique_values\": 5,\n        \"samples\": [\n          1,\n          2,\n          5\n        ],\n        \"semantic_type\": \"\",\n        \"description\": \"\"\n      }\n    },\n    {\n      \"column\": \"Tipo de pagamento\",\n      \"properties\": {\n        \"dtype\": \"category\",\n        \"num_unique_values\": 4,\n        \"samples\": [\n          \"boleto\",\n          \"cartao_debito\",\n          \"cartao_credito\"\n        ],\n        \"semantic_type\": \"\",\n        \"description\": \"\"\n      }\n    },\n    {\n      \"column\": \"Quantidade de parcelas\",\n      \"properties\": {\n        \"dtype\": \"number\",\n        \"std\": 2,\n        \"min\": 1,\n        \"max\": 24,\n        \"num_unique_values\": 15,\n        \"samples\": [\n          7,\n          14,\n          8\n        ],\n        \"semantic_type\": \"\",\n        \"description\": \"\"\n      }\n    },\n    {\n      \"column\": \"lat\",\n      \"properties\": {\n        \"dtype\": \"number\",\n        \"std\": 5.372399916530833,\n        \"min\": -30.17,\n        \"max\": 1.41,\n        \"num_unique_values\": 26,\n        \"samples\": [\n          -9.46,\n          -5.81,\n          -22.19\n        ],\n        \"semantic_type\": \"\",\n        \"description\": \"\"\n      }\n    },\n    {\n      \"column\": \"lon\",\n      \"properties\": {\n        \"dtype\": \"number\",\n        \"std\": 4.183180020544179,\n        \"min\": -70.55,\n        \"max\": -36.59,\n        \"num_unique_values\": 26,\n        \"samples\": [\n          -48.26,\n          -36.59,\n          -48.79\n        ],\n        \"semantic_type\": \"\",\n        \"description\": \"\"\n      }\n    }\n  ]\n}"
            }
          },
          "metadata": {},
          "execution_count": 34
        }
      ],
      "source": [
        "import pandas as pd\n",
        "\n",
        "url = \"https://raw.githubusercontent.com/alura-es-cursos/challenge1-data-science/refs/heads/main/base-de-dados-challenge-1/loja_1.csv\"\n",
        "url2 = \"https://raw.githubusercontent.com/alura-es-cursos/challenge1-data-science/refs/heads/main/base-de-dados-challenge-1/loja_2.csv\"\n",
        "url3 = \"https://raw.githubusercontent.com/alura-es-cursos/challenge1-data-science/refs/heads/main/base-de-dados-challenge-1/loja_3.csv\"\n",
        "url4 = \"https://raw.githubusercontent.com/alura-es-cursos/challenge1-data-science/refs/heads/main/base-de-dados-challenge-1/loja_4.csv\"\n",
        "\n",
        "loja = pd.read_csv(url)\n",
        "loja2 = pd.read_csv(url2)\n",
        "loja3 = pd.read_csv(url3)\n",
        "loja4 = pd.read_csv(url4)\n",
        "\n",
        "loja.head()"
      ]
    },
    {
      "cell_type": "markdown",
      "source": [
        "#1. Análise do faturamento\n"
      ],
      "metadata": {
        "id": "X62IW3KFUIYm"
      }
    },
    {
      "cell_type": "code",
      "source": [
        "#Faturamento da Loja 1\n",
        "faturamentoLoja1 = round(loja[\"Preço\"].sum(),2)\n",
        "print(f\"O faturamento da Loja 1 é de R$ {faturamentoLoja1:,.2f}\")\n",
        "#Faturamento da Loja 2\n",
        "faturamentoLoja2 = round(loja2[\"Preço\"].sum(),2)\n",
        "print(f\"O faturamento da Loja 2 é de R$ {faturamentoLoja2:,.2f}\")\n",
        "#Faturamento da Loja 3\n",
        "faturamentoLoja3 = round(loja3[\"Preço\"].sum(),2)\n",
        "print(f\"O faturamento da Loja 3 é de R$ {faturamentoLoja3:,.2f}\")\n",
        "#Faturamento da Loja 4\n",
        "faturamentoLoja4 = round(loja4[\"Preço\"].sum(),2)\n",
        "print(f\"O faturamento da Loja 4 é de R$ {faturamentoLoja4:,.2f}\")\n",
        "\n",
        "faturamentoTodasLojas = {\"Loja 1\" : faturamentoLoja1, \"Loja 2\" : faturamentoLoja2, \"Loja 3\" : faturamentoLoja3, \"Loja 4\" : faturamentoLoja4}\n",
        "\n",
        "\n",
        "lojaMenor = min(faturamentoTodasLojas, key=faturamentoTodasLojas.get) #Pegando o nome da loja que faturou menos baseado nas chaves do dicionario\n",
        "menorFaturamento = faturamentoTodasLojas[lojaMenor]\n",
        "\n",
        "lojaMaior = max(faturamentoTodasLojas, key=faturamentoTodasLojas.get) #Pegando o nome da loja que faturou mais baseado nas chaves do dicionario\n",
        "maiorFaturamento = faturamentoTodasLojas[lojaMaior]\n",
        "\n",
        "print(f\"\\n A loja que faturou menos é a {lojaMenor}, com faturamento de {menorFaturamento:,.2f} \")\n",
        "print(f\"\\n A loja que faturou mais é a {lojaMaior}, com faturamento de {maiorFaturamento:,.2f} \")"
      ],
      "metadata": {
        "id": "xykobSftV64I",
        "colab": {
          "base_uri": "https://localhost:8080/"
        },
        "outputId": "17140a50-d5e2-483a-81dc-062fd9827a84"
      },
      "execution_count": null,
      "outputs": [
        {
          "output_type": "stream",
          "name": "stdout",
          "text": [
            "O faturamento da Loja 1 é de R$ 1,534,509.12\n",
            "O faturamento da Loja 2 é de R$ 1,488,459.06\n",
            "O faturamento da Loja 3 é de R$ 1,464,025.03\n",
            "O faturamento da Loja 4 é de R$ 1,384,497.58\n",
            "\n",
            " A loja que faturou menos é a Loja 4, com faturamento de 1,384,497.58 \n",
            "\n",
            " A loja que faturou mais é a Loja 1, com faturamento de 1,534,509.12 \n"
          ]
        }
      ]
    },
    {
      "cell_type": "code",
      "source": [
        "import numpy as np\n",
        "import matplotlib.pyplot as plt #importando as bibliotecas necessarias\n",
        "\n",
        "x = [\"Loja 1\", \"Loja 2\", \"Loja 3\", \"Loja 4\"] #eixo x com cada uma das lojas\n",
        "y = [faturamentoLoja1, faturamentoLoja2, faturamentoLoja3, faturamentoLoja4] #eixo y com o faturamento de cada uma das lojas\n",
        "\n",
        "plt.figure(figsize=(6, 5)) #tamanho da imagem\n",
        "barras = plt.bar(x, y, color='lightgray', edgecolor='darkgray') #barras padrão\n",
        "\n",
        "plt.ylim(min(y) * 0.98, max(y) * 1.02) #definindo altura minima e maxima para os eixos, pra conseguir visualizar melhor a diferença entre os valores\n",
        "\n",
        "plt.title(\"Faturamento por Loja\", fontsize=14)\n",
        "plt.xlabel(\"Lojas\", fontsize=12)\n",
        "plt.ylabel(\"Faturamento em Milhões de R$\", fontsize=12)\n",
        "\n",
        "for barra in barras:\n",
        "    valorAlturaBarra = barra.get_height()\n",
        "    plt.text(barra.get_x() + barra.get_width()/2, valorAlturaBarra + 5000, #espaço entre o texto com os valores e a barra\n",
        "             f\"R$ {valorAlturaBarra:,.2f}\", ha='center', va='bottom', fontsize=9) #alinhando o texto e definindo a fonte\n",
        "\n",
        "indice_maior = y.index(max(y))\n",
        "indice_menor = y.index(min(y))\n",
        "barras[indice_maior].set_color('darkgreen') #pinta o maior valor de verde\n",
        "barras[indice_menor].set_color('maroon') #pinta o menor valor de vermelho\n",
        "\n",
        "plt.tight_layout()\n",
        "plt.show()"
      ],
      "metadata": {
        "id": "KDyr8E71V3m-",
        "colab": {
          "base_uri": "https://localhost:8080/",
          "height": 507
        },
        "outputId": "4d94b681-9bee-4ed4-dd11-7c3a3e9bdfb2"
      },
      "execution_count": null,
      "outputs": [
        {
          "output_type": "display_data",
          "data": {
            "text/plain": [
              "<Figure size 600x500 with 1 Axes>"
            ],
            "image/png": "[encoded data removed]"
          },
          "metadata": {}
        }
      ]
    },
    {
      "cell_type": "markdown",
      "source": [
        "# 2. Vendas por Categoria\n"
      ],
      "metadata": {
        "id": "2V_vcAPzWZmR"
      }
    },
    {
      "cell_type": "code",
      "source": [
        "import numpy as np\n",
        "import matplotlib.pyplot as plt\n",
        "\n",
        "listadeCategorias = [  #lista de categorias de cada loja, somando a quantidade dos produtos de cada uma das categorias\n",
        "    loja[\"Categoria do Produto\"].value_counts(),\n",
        "    loja2[\"Categoria do Produto\"].value_counts(),\n",
        "    loja3[\"Categoria do Produto\"].value_counts(),\n",
        "    loja4[\"Categoria do Produto\"].value_counts()\n",
        "]\n",
        "\n",
        "categorias = [  #lista de categorias que vamos somar\n",
        "    \"moveis\",\n",
        "    \"eletronicos\",\n",
        "    \"brinquedos\",\n",
        "    \"esporte e lazer\",\n",
        "    \"eletrodomesticos\",\n",
        "    \"utilidades domesticas\",\n",
        "    \"livros\",\n",
        "    \"instrumentos musicais\"\n",
        "]\n",
        "\n",
        "def somaCategoria(categoria): #função pra somar as categorias entre si, exemplo: somar todos os móveis\n",
        "    soma = 0\n",
        "    for loja_categoria in listadeCategorias:\n",
        "        soma += loja_categoria.get(categoria)\n",
        "    return soma\n",
        "valores = []\n",
        "for categoria in categorias:\n",
        "    total = somaCategoria(categoria)\n",
        "    valores.append(total)\n",
        "    print(f\"A categoria {categoria.title()} vendeu um total de R$ {total:.2f}\") #title para capitalizar"
      ],
      "metadata": {
        "id": "yZR6cOjXYSk1",
        "colab": {
          "base_uri": "https://localhost:8080/"
        },
        "outputId": "a1f5106b-0074-43c9-c779-4451780937dd"
      },
      "execution_count": null,
      "outputs": [
        {
          "output_type": "stream",
          "name": "stdout",
          "text": [
            "A categoria Moveis vendeu um total de R$ 1901.00\n",
            "A categoria Eletronicos vendeu um total de R$ 1775.00\n",
            "A categoria Brinquedos vendeu um total de R$ 1304.00\n",
            "A categoria Esporte E Lazer vendeu um total de R$ 1106.00\n",
            "A categoria Eletrodomesticos vendeu um total de R$ 1091.00\n",
            "A categoria Utilidades Domesticas vendeu um total de R$ 760.00\n",
            "A categoria Livros vendeu um total de R$ 756.00\n",
            "A categoria Instrumentos Musicais vendeu um total de R$ 741.00\n"
          ]
        }
      ]
    },
    {
      "cell_type": "code",
      "source": [
        "import matplotlib.pyplot as plt\n",
        "import numpy as np\n",
        "\n",
        "cores = [\"#003f5c\",\"#58508d\",\"#8a508f\",\"#bc5090\",\"#de5a79\",\"#ff6361\",\"#ff8531\",\"#ffa600\"] #cores para o grafico de pizza\n",
        "\n",
        "plt.figure(figsize=(5, 5))\n",
        "plt.pie(valores, labels=categorias, colors=cores, autopct='%1.1f%%', startangle=90)\n",
        "plt.title('Distribuição de Vendas por Categoria')\n",
        "plt.axis('equal')\n",
        "plt.show()\n"
      ],
      "metadata": {
        "colab": {
          "base_uri": "https://localhost:8080/",
          "height": 446
        },
        "id": "6wj4f_I9il1N",
        "outputId": "20679805-b760-4f0d-e745-306392c2f9d1"
      },
      "execution_count": null,
      "outputs": [
        {
          "output_type": "display_data",
          "data": {
            "text/plain": [
              "<Figure size 500x500 with 1 Axes>"
            ],
            "image/png": "[encoded data removed]"
          },
          "metadata": {}
        }
      ]
    },
    {
      "cell_type": "code",
      "source": [
        "dicionariosLojas = [ #lista de dicionarios de cada loja, com a categoria como chave e a quantidade como elemento\n",
        "    dict(categoriasLoja1),\n",
        "    dict(categoriasLoja2),\n",
        "    dict(categoriasLoja3),\n",
        "    dict(categoriasLoja4)\n",
        "]\n",
        "\n",
        "for i, dicionario in enumerate(dicionariosLojas, start=1): #enumerate vai colocar no print o número de cada loja\n",
        "    maisPopular = max(dicionario, key=dicionario.get).title()\n",
        "    menosPopular = min(dicionario, key=dicionario.get).title() #title para capitalizar cada palavra de cada categoria, pois originalmente são em minúsculo\n",
        "\n",
        "    print(f\"A categoria mais popular na Loja {i} é a {maisPopular}\")\n",
        "    print(f\"A categoria menos popular na Loja {i} é a {menosPopular}\\n\")"
      ],
      "metadata": {
        "colab": {
          "base_uri": "https://localhost:8080/"
        },
        "id": "zrlMxpflVeoz",
        "outputId": "bd6d64a9-96ad-47f3-b224-4f756928ea30"
      },
      "execution_count": null,
      "outputs": [
        {
          "output_type": "stream",
          "name": "stdout",
          "text": [
            "A categoria mais popular na Loja 1 é a Moveis\n",
            "A categoria menos popular na Loja 1 é a Instrumentos Musicais\n",
            "\n",
            "A categoria mais popular na Loja 2 é a Moveis\n",
            "A categoria menos popular na Loja 2 é a Utilidades Domesticas\n",
            "\n",
            "A categoria mais popular na Loja 3 é a Moveis\n",
            "A categoria menos popular na Loja 3 é a Instrumentos Musicais\n",
            "\n",
            "A categoria mais popular na Loja 4 é a Moveis\n",
            "A categoria menos popular na Loja 4 é a Instrumentos Musicais\n",
            "\n"
          ]
        }
      ]
    },
    {
      "cell_type": "markdown",
      "source": [
        "# 3. Média de Avaliação das Lojas"
      ],
      "metadata": {
        "id": "Rq6tU_xSY3jk"
      }
    },
    {
      "cell_type": "code",
      "source": [
        "def mediaAvaliacao(loja):\n",
        "    soma = 0 #começando a soma no 0\n",
        "    for i in range(len(loja)): #loop que percorre cada uma das linhas\n",
        "        soma += loja.iloc[i][\"Avaliação da compra\"] #acessa cada uma das linhas (no caso i), da coluna de avaliação. pega o valor dessa linha e atribui na soma. repete isso pra cada linha\n",
        "    media = soma / len(loja) #soma dividida pela quantidade de linhas\n",
        "    return media\n",
        "\n",
        "for i in range (len(lojas)): #percorre por cada uma das 4 lojas\n",
        "  media = mediaAvaliacao(lojas[i]) #chama a funçao atribuindo o i como índice/numero da loja, a função vai ser aplicada para cada uma dessas lojas\n",
        "  print(f\"A Loja {i+1} tem uma média de avaliação de {media:.3f}\") #printa o nome da loja com o numero correspondente (i+1, pq i começa em 0), depois printa a media arredondada"
      ],
      "metadata": {
        "id": "bh3jjjJwY5MU",
        "colab": {
          "base_uri": "https://localhost:8080/"
        },
        "outputId": "c76e7946-aa89-488b-c9ef-6c2604d664b1"
      },
      "execution_count": null,
      "outputs": [
        {
          "output_type": "stream",
          "name": "stdout",
          "text": [
            "A Loja 1 tem uma média de avaliação de 3.996\n",
            "A Loja 2 tem uma média de avaliação de 4.037\n",
            "A Loja 3 tem uma média de avaliação de 4.048\n",
            "A Loja 4 tem uma média de avaliação de 3.996\n"
          ]
        }
      ]
    },
    {
      "cell_type": "markdown",
      "source": [
        "# 4. Produtos Mais e Menos Vendidos"
      ],
      "metadata": {
        "id": "DmNp1KPBZCm-"
      }
    },
    {
      "cell_type": "code",
      "source": [
        "quantosProdutos = [ #dicionario com os produtos como chave e a quantidade que cada um se repete na lista como elemento\n",
        "    dict(loja[\"Produto\"].value_counts()),\n",
        "    dict(loja2[\"Produto\"].value_counts()),\n",
        "    dict(loja3[\"Produto\"].value_counts()),\n",
        "    dict(loja4[\"Produto\"].value_counts())]\n",
        "\n",
        "for i in range(len(quantosProdutos)): #novamente iterando para dar print no nome das lojas e pegando a chave correspondente a qual vendeu mais/menos para printar também\n",
        "    print(f\"Na Loja {i+1}, o produto mais vendido foi \\\"{max(quantosProdutos[i], key=quantosProdutos[i].get)}\\\" e o produto menos vendido foi \\\"{min(quantosProdutos[i], key=quantosProdutos[i].get)}\\\"\\n\")\n"
      ],
      "metadata": {
        "id": "qoyjqijQZHfF",
        "colab": {
          "base_uri": "https://localhost:8080/"
        },
        "outputId": "9d795cc9-62a1-4dc5-f085-91e7aa0d6e60"
      },
      "execution_count": null,
      "outputs": [
        {
          "output_type": "stream",
          "name": "stdout",
          "text": [
            "Na Loja 1, o produto mais vendido foi \"Cama box\" e o produto menos vendido foi \"Guitarra\"\n",
            "\n",
            "Na Loja 2, o produto mais vendido foi \"Iniciando em programação\" e o produto menos vendido foi \"Jogo de tabuleiro\"\n",
            "\n",
            "Na Loja 3, o produto mais vendido foi \"Kit banquetas\" e o produto menos vendido foi \"Blocos de montar\"\n",
            "\n",
            "Na Loja 4, o produto mais vendido foi \"Cama box\" e o produto menos vendido foi \"Guitarra\"\n",
            "\n"
          ]
        }
      ]
    },
    {
      "cell_type": "code",
      "source": [
        "nomes_lojas = [\"Loja 1\", \"Loja 2\", \"Loja 3\", \"Loja 4\"]\n",
        "produtos_mais_vendidos = []\n",
        "quantidades_mais_vendidos = []\n",
        "produtos_menos_vendidos = []\n",
        "quantidades_menos_vendidos = []\n",
        "\n",
        "\n",
        "for i in range(len(quantosProdutos)): #extrair os dados dos dicionarios\n",
        "    loja_dict = quantosProdutos[i]\n",
        "\n",
        "    produto_mais = max(loja_dict, key=loja_dict.get) #pega a chave\n",
        "    quantidade_mais = loja_dict[produto_mais] #pega a quantidade\n",
        "\n",
        "    produto_menos = min(loja_dict, key=loja_dict.get)\n",
        "    quantidade_menos = loja_dict[produto_menos]\n",
        "\n",
        "    produtos_mais_vendidos.append(produto_mais)\n",
        "    quantidades_mais_vendidos.append(quantidade_mais)\n",
        "\n",
        "    produtos_menos_vendidos.append(produto_menos)\n",
        "    quantidades_menos_vendidos.append(quantidade_menos)\n",
        "\n",
        "x = range(len(nomes_lojas))  #nomes das lojas no eixo x\n",
        "\n",
        "plt.figure(figsize=(10, 6))\n",
        "\n",
        "plt.bar(x, quantidades_mais_vendidos, color=\"#b0d18b\", edgecolor=\"#2f4f10\", label='Mais Vendido')\n",
        "plt.bar([i + 0.3 for i in x], quantidades_menos_vendidos, color=\"#f0ac8f\", edgecolor=\"#540b0b\", label='Menos Vendido', width=0.3) #deslocado pra não sobrepor\n",
        "\n",
        "plt.xticks([i + 0.15 for i in x], nomes_lojas)\n",
        "plt.ylabel(\"Quantidade Vendida\")\n",
        "plt.title(\"Produtos Mais e Menos Vendidos por Loja\")\n",
        "plt.legend(loc='lower center', bbox_to_anchor=(0.5, -0.15), ncol=2)\n",
        "\n",
        "# Mostrar os nomes dos produtos acima das barras\n",
        "for i in x:\n",
        "    plt.text(i, quantidades_mais_vendidos[i] + 0.5, produtos_mais_vendidos[i], ha='center', color='#2f4f10')\n",
        "    plt.text(i + 0.3, quantidades_menos_vendidos[i] + 0.5, produtos_menos_vendidos[i], ha='center', color='#540b0b')\n",
        "\n",
        "plt.tight_layout()\n",
        "plt.show()\n"
      ],
      "metadata": {
        "id": "0Sw3sd4IZIGW",
        "colab": {
          "base_uri": "https://localhost:8080/",
          "height": 610
        },
        "outputId": "4a48aa60-6f18-4139-80f4-92e089e25efc"
      },
      "execution_count": null,
      "outputs": [
        {
          "output_type": "display_data",
          "data": {
            "text/plain": [
              "<Figure size 1000x600 with 1 Axes>"
            ],
            "image/png": "[encoded data removed]"
          },
          "metadata": {}
        }
      ]
    },
    {
      "cell_type": "markdown",
      "source": [
        "# 5. Frete Médio por Loja\n"
      ],
      "metadata": {
        "id": "Fl0cGi3bZKqU"
      }
    },
    {
      "cell_type": "code",
      "source": [
        "def mediaFrete(loja): #reutilizei a funcao de media das avaliações\n",
        "    soma = 0\n",
        "    for i in range(len(loja)): #loop que percorre cada uma das linhas\n",
        "        soma += loja.iloc[i][\"Frete\"] #acessa cada uma das linhas da coluna frete\n",
        "    media = soma / len(loja) #soma dividida pela quantidade de linhas\n",
        "    return media\n",
        "\n",
        "for i in range (len(lojas)): #percorre por cada uma das 4 lojas\n",
        "  media = mediaFrete(lojas[i]) #chama a funçao atribuindo o i como índice/numero da loja, a função vai ser aplicada para cada uma dessas lojas\n",
        "  print(f\"A Loja {i+1} tem uma frete médio de R$ {media:.2f}\") #printa o nome da loja com o numero correspondente (i+1, pq i começa em 0), depois printa a media arredondada"
      ],
      "metadata": {
        "id": "S2JeaCykZNy9",
        "colab": {
          "base_uri": "https://localhost:8080/"
        },
        "outputId": "447c8109-b1a2-4434-e8a9-d514b4de340e"
      },
      "execution_count": null,
      "outputs": [
        {
          "output_type": "stream",
          "name": "stdout",
          "text": [
            "A Loja 1 tem uma frete médio de R$ 31.28\n",
            "A Loja 2 tem uma frete médio de R$ 33.62\n",
            "A Loja 3 tem uma frete médio de R$ 33.07\n",
            "A Loja 4 tem uma frete médio de R$ 31.28\n"
          ]
        }
      ]
    },
    {
      "cell_type": "code",
      "source": [
        "dicionarioCompletoLoja1 = {\n",
        "    \"Faturamento\": f\"R$ {faturamentoLoja1:,.2f}\",\n",
        "    \"Média de Avaliação\": float(round(mediaAvaliacao(loja),3)),\n",
        "    \"Média de Frete\": f\"R$ {mediaFrete(loja):,.2F}\",\n",
        "    \"Produto Mais Vendido\": max(dict(loja[\"Produto\"].value_counts()), key=dict(loja[\"Produto\"].value_counts()).get),\n",
        "    \"Produto Menos Vendido\": min(dict(loja[\"Produto\"].value_counts()), key=dict(loja[\"Produto\"].value_counts()).get)\n",
        "}\n",
        "\n",
        "dicionarioCompletoLoja2 = {\n",
        "    \"Faturamento\": f\"R$ {faturamentoLoja2:,.2f}\",\n",
        "    \"Média de Avaliação\": float(round(mediaAvaliacao(loja2),3)),\n",
        "    \"Média de Frete\": f\"R$ {mediaFrete(loja2):,.2F}\",\n",
        "    \"Produto Mais Vendido\": max(dict(loja2[\"Produto\"].value_counts()), key=dict(loja2[\"Produto\"].value_counts()).get),\n",
        "    \"Produto Menos Vendido\": min(dict(loja2[\"Produto\"].value_counts()), key=dict(loja2[\"Produto\"].value_counts()).get)\n",
        "}\n",
        "\n",
        "dicionarioCompletoLoja3 = {\n",
        "    \"Faturamento\": f\"R$ {faturamentoLoja3:,.2f}\",\n",
        "    \"Média de Avaliação\": float(round(mediaAvaliacao(loja3),3)),\n",
        "    \"Média de Frete\": f\"R$ {mediaFrete(loja3):,.2F}\",\n",
        "    \"Produto Mais Vendido\": max(dict(loja3[\"Produto\"].value_counts()), key=dict(loja3[\"Produto\"].value_counts()).get),\n",
        "    \"Produto Menos Vendido\": min(dict(loja3[\"Produto\"].value_counts()), key=dict(loja3[\"Produto\"].value_counts()).get)\n",
        "}\n",
        "\n",
        "dicionarioCompletoLoja4 = {\n",
        "    \"Faturamento\": f\"R$ {faturamentoLoja4:,.2f}\",\n",
        "    \"Média de Avaliação\": float(round(mediaAvaliacao(loja4),3)),\n",
        "    \"Média de Frete\": f\"R$ {mediaFrete(loja4):,.2F}\",\n",
        "    \"Produto Mais Vendido\": max(dict(loja4[\"Produto\"].value_counts()), key=dict(loja4[\"Produto\"].value_counts()).get),\n",
        "    \"Produto Menos Vendido\": min(dict(loja4[\"Produto\"].value_counts()), key=dict(loja4[\"Produto\"].value_counts()).get)\n",
        "}\n",
        "\n",
        "dicionarioFinal = [dicionarioCompletoLoja1, dicionarioCompletoLoja2, dicionarioCompletoLoja3, dicionarioCompletoLoja4]\n",
        "\n",
        "for i in range(len(lojas)):\n",
        "  dici = dicionarioFinal[i]\n",
        "  print(f\"Desempenho da Loja {i+1}: \")\n",
        "  for chave, valor in dici.items():\n",
        "    print(f\"{chave}: {valor}\")\n",
        "  print(\"\\n\")"
      ],
      "metadata": {
        "id": "0tSdCie9ZQlt",
        "colab": {
          "base_uri": "https://localhost:8080/"
        },
        "outputId": "8c5d2311-4f25-4f71-e1d9-30830d463ae5"
      },
      "execution_count": null,
      "outputs": [
        {
          "output_type": "stream",
          "name": "stdout",
          "text": [
            "Desempenho da Loja 1: \n",
            "Faturamento: R$ 1,534,509.12\n",
            "Média de Avaliação: 3.996\n",
            "Média de Frete: R$ 31.28\n",
            "Produto Mais Vendido: Cama box\n",
            "Produto Menos Vendido: Guitarra\n",
            "\n",
            "\n",
            "Desempenho da Loja 2: \n",
            "Faturamento: R$ 1,488,459.06\n",
            "Média de Avaliação: 4.037\n",
            "Média de Frete: R$ 33.62\n",
            "Produto Mais Vendido: Iniciando em programação\n",
            "Produto Menos Vendido: Jogo de tabuleiro\n",
            "\n",
            "\n",
            "Desempenho da Loja 3: \n",
            "Faturamento: R$ 1,464,025.03\n",
            "Média de Avaliação: 4.048\n",
            "Média de Frete: R$ 33.07\n",
            "Produto Mais Vendido: Kit banquetas\n",
            "Produto Menos Vendido: Blocos de montar\n",
            "\n",
            "\n",
            "Desempenho da Loja 4: \n",
            "Faturamento: R$ 1,384,497.58\n",
            "Média de Avaliação: 3.996\n",
            "Média de Frete: R$ 31.28\n",
            "Produto Mais Vendido: Cama box\n",
            "Produto Menos Vendido: Guitarra\n",
            "\n",
            "\n"
          ]
        }
      ]
    },
    {
      "cell_type": "markdown",
      "source": [
        "Considerando os dados acima, podemos afirmar que:\n",
        "\n",
        "\n",
        "A Loja 1 tem o melhor desempenho em comparação as outras 3 quando se trata de faturamento e frete.\n",
        "\n",
        "A loja 2 possui bom faturamento, boa avaliação, apesar do frete alto. Importante notar que seu produto mais vendido pertence a categoria livros, uma das menos vendáveis.\n",
        "\n",
        "A Loja 3 possui a melhor avaliação das 4 lojas, e vende kit de banquetas (da categoria móveis, a mais vendável) e frete mediano\n",
        "\n",
        "A Loja 4 possui menor faturamento, menor avaliação, mas também menor frete. Mesmo vendendo os mesmos produtos da Loja 1, não consegue atingir o mesmo valor.\n",
        "\n",
        "\n",
        "Com base nesta análise, acredito que seja melhor vender a Loja 4, por conta do seu desempenho. Como vende itens similares a Loja 1, que é a com maior faturamento, podemos centralizar as vendas desses itens para a Loja 1 e investir nas outras 2 lojas com os recursos obtidos após a venda da Loja 4\n",
        "\n",
        "---\n",
        "\n",
        "\n"
      ],
      "metadata": {
        "id": "dtyi-muGJLHx"
      }
    }
  ]
}